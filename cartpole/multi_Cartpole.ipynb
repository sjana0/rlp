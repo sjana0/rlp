{
 "cells": [
  {
   "cell_type": "code",
   "execution_count": 55,
   "id": "819dc640",
   "metadata": {},
   "outputs": [],
   "source": [
    "import os\n",
    "import gym\n",
    "# from stable_baselines3 import PPO\n",
    "# from stable_baselines3 import A2C\n",
    "# from stable_baselines3.common.vec_env import DummyVecEnv\n",
    "# from stable_baselines3.common.vec_env import VecEnv\n",
    "# from stable_baselines3.common.vec_env import VecFrameStack\n",
    "# from stable_baselines3.common.evaluation import evaluate_policy"
   ]
  },
  {
   "cell_type": "code",
   "execution_count": 56,
   "id": "f6f55f23",
   "metadata": {},
   "outputs": [],
   "source": [
    "environment_name = 'CartPole-v1'\n",
    "log_path = os.path.join('/home/kchn/rlp/cartpole/multi/Training', 'Logs')"
   ]
  },
  {
   "cell_type": "code",
   "execution_count": 57,
   "id": "eba63e4e",
   "metadata": {
    "scrolled": false
   },
   "outputs": [
    {
     "name": "stdout",
     "output_type": "stream",
     "text": [
      "Tuple(Discrete(2), Discrete(2), Discrete(2), Discrete(2), Discrete(2), Discrete(2), Discrete(2), Discrete(2), Discrete(2), Discrete(2))\n"
     ]
    }
   ],
   "source": [
    "model = []\n",
    "menv = []\n",
    "for i in range(10, 11):\n",
    "    env = gym.vector.make(environment_name, num_envs=i)\n",
    "    print(env.action_space)\n",
    "    #env = VecEnv(env, n_stack=i)\n",
    "    #menv.append(env)\n",
    "    #print(type(env))\n",
    "    #mdl = PPO('MlpPolicy', env, verbose=1, tensorboard_log=log_path)\n",
    "    #model.append(mdl)"
   ]
  },
  {
   "cell_type": "code",
   "execution_count": null,
   "id": "d6e8763c",
   "metadata": {},
   "outputs": [],
   "source": []
  },
  {
   "cell_type": "code",
   "execution_count": 28,
   "id": "737a1a70",
   "metadata": {
    "scrolled": true
   },
   "outputs": [],
   "source": [
    "i = 0\n",
    "for mdl in model:\n",
    "    mdl.learn(total_timesteps=20000)\n",
    "    evaluate_policy(mdl, menv[i], n_eval_episodes=10, render=False)\n",
    "    i+=1"
   ]
  }
 ],
 "metadata": {
  "kernelspec": {
   "display_name": "Python 3 (ipykernel)",
   "language": "python",
   "name": "python3"
  },
  "language_info": {
   "codemirror_mode": {
    "name": "ipython",
    "version": 3
   },
   "file_extension": ".py",
   "mimetype": "text/x-python",
   "name": "python",
   "nbconvert_exporter": "python",
   "pygments_lexer": "ipython3",
   "version": "3.10.4"
  }
 },
 "nbformat": 4,
 "nbformat_minor": 5
}
